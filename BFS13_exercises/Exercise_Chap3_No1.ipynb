{
 "cells": [
  {
   "cell_type": "code",
   "execution_count": 55,
   "metadata": {},
   "outputs": [],
   "source": [
    "import numpy as np\n",
    "import plotly.graph_objects as go\n",
    "from ipywidgets import interact\n",
    "\n",
    "import os, sys\n",
    "sys.path.append('../..')\n",
    "\n",
    "import lti_disc, kf_predict, kf_update, rts_smooth"
   ]
  },
  {
   "cell_type": "code",
   "execution_count": 56,
   "metadata": {},
   "outputs": [],
   "source": [
    "A = np.array([[1,1],[0,1]])\n",
    "H = np.array([1, 0])\n",
    "\n",
    "sd_r = 10\n",
    "T = 100\n",
    "R = sd_r**2\n",
    "\n",
    "X = np.zeros((T,2))\n",
    "y = np.zeros((T,1))\n",
    "\n",
    "mean1 = np.zeros(2)\n",
    "cov1 = np.eye(2)\n",
    "Q = np.array([[1/100, 0],[0, 1]])\n",
    "X[0] = np.random.multivariate_normal(mean1,cov1,1)\n",
    "y[0] = H @ X[0]\n",
    "# print(y[0])\n",
    "# y_teem = H @ X[0].T\n",
    "# print(y_teem)\n",
    "for ii in range(T-1):\n",
    "    X[ii + 1] = A @ X[ii] + np.random.multivariate_normal(mean1, Q, 1)\n",
    "    y[ii + 1] = H @ X[ii] + sd_r * np.random.normal()"
   ]
  },
  {
   "cell_type": "markdown",
   "metadata": {},
   "source": [
    "plot $x_k$ and $\\hat{x_k}$ and $y_k$"
   ]
  },
  {
   "cell_type": "code",
   "execution_count": 57,
   "metadata": {},
   "outputs": [
    {
     "data": {
      "application/vnd.jupyter.widget-view+json": {
       "model_id": "5b6a2aae3d6e40f29906a0e628db111c",
       "version_major": 2,
       "version_minor": 0
      },
      "text/plain": [
       "FigureWidget({\n",
       "    'data': [{'name': 'Real signal',\n",
       "              'opacity': 0.7,\n",
       "              'type': 'scatt…"
      ]
     },
     "metadata": {},
     "output_type": "display_data"
    }
   ],
   "source": [
    "TT = np.array(range(T))\n",
    "fig1 = go.FigureWidget()\n",
    "fig1.add_scatter(x=TT, y=X[:,0], name='Real signal', opacity=0.7)\n",
    "fig1.add_scatter(x=TT, y=X[:,1], name='Derivative', opacity=0.7)\n",
    "fig1.add_scatter(x=TT, y=y[:,0],  mode='markers', marker_symbol='circle-open',  name='Measurements')"
   ]
  },
  {
   "cell_type": "markdown",
   "metadata": {},
   "source": [
    "Use the Kalman filter for computing the state estimates $\\boldsymbol{m}_k$ "
   ]
  },
  {
   "cell_type": "code",
   "execution_count": 76,
   "metadata": {},
   "outputs": [],
   "source": [
    "M = np.zeros((2,1))\n",
    "P = np.eye(2)\n",
    "\n",
    "# Track and animate\n",
    "MM = np.zeros((len(y), len(M), 1))\n",
    "PP = np.zeros((len(y), len(M), len(M)))\n",
    "\n",
    "for k in range(T):\n",
    "    M, P = kf_predict.kf_predict(M, P, A, Q)\n",
    "    M, P, *_ = kf_update.kf_update(M, P, y[k], H, R)\n",
    "\n",
    "    MM[k], PP[k] = M, P"
   ]
  },
  {
   "cell_type": "code",
   "execution_count": 77,
   "metadata": {},
   "outputs": [
    {
     "data": {
      "application/vnd.jupyter.widget-view+json": {
       "model_id": "1335453727d2431db06c218d10af799b",
       "version_major": 2,
       "version_minor": 0
      },
      "text/plain": [
       "interactive(children=(IntSlider(value=2, description='step', min=1), Output()), _dom_classes=('widget-interact…"
      ]
     },
     "metadata": {},
     "output_type": "display_data"
    },
    {
     "data": {
      "application/vnd.jupyter.widget-view+json": {
       "model_id": "e993f6a4d4f344b6a581e24a326f858d",
       "version_major": 2,
       "version_minor": 0
      },
      "text/plain": [
       "FigureWidget({\n",
       "    'data': [{'name': 'Real signal',\n",
       "              'opacity': 0.7,\n",
       "              'type': 'scatt…"
      ]
     },
     "metadata": {},
     "output_type": "display_data"
    }
   ],
   "source": [
    "fig2 = go.FigureWidget()\n",
    "fig2.add_scatter(x=TT, y=X[:,0], name='Real signal', opacity=0.7)\n",
    "fig2.add_scatter(x=TT, y=X[:,1], name='Derivative', opacity=0.7)\n",
    "fig2.add_scatter(x=TT, y=y[:,0],  mode='markers', marker_symbol='circle-open',  name='Measurements')\n",
    "fig2.add_scatter(x=TT, y=MM[:,0,0], line_dash='dash', name='Filtered estimate')\n",
    "fig2.add_scatter(x=TT, mode='lines', name='Filtered estimate')\n",
    "fig2.layout.update(title='Estimating a noisy sine signal with Kalman filter', height=600)\n",
    "\n",
    "@interact(step=(1, len(TT), 1))\n",
    "def update(step=2):\n",
    "    with fig2.batch_update():\n",
    "        fig2.data[-1].y=MM[:int(step),0,0]\n",
    "fig2"
   ]
  },
  {
   "cell_type": "code",
   "execution_count": 79,
   "metadata": {},
   "outputs": [
    {
     "name": "stdout",
     "output_type": "stream",
     "text": [
      "RMS errors:\n",
      "KF = 9.179424 \n",
      "\n"
     ]
    }
   ],
   "source": [
    "# Errors\n",
    "print('RMS errors:')\n",
    "print('KF = {0:4f} \\n'.format(*np.sqrt(np.mean(np.array([MM[:,0,0]-X[:,0]])**2, axis=1))))"
   ]
  }
 ],
 "metadata": {
  "kernelspec": {
   "display_name": "Python 3",
   "language": "python",
   "name": "python3"
  },
  "language_info": {
   "codemirror_mode": {
    "name": "ipython",
    "version": 3
   },
   "file_extension": ".py",
   "mimetype": "text/x-python",
   "name": "python",
   "nbconvert_exporter": "python",
   "pygments_lexer": "ipython3",
   "version": "3.8.5"
  }
 },
 "nbformat": 4,
 "nbformat_minor": 4
}
